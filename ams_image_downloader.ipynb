{
 "cells": [
  {
   "cell_type": "code",
   "execution_count": null,
   "id": "01fd97ec",
   "metadata": {},
   "outputs": [],
   "source": [
    "import pandas as pd\n",
    "import sys\n",
    "import os\n",
    "sys.path.insert(0, os.path.abspath('.'))\n",
    "import download\n",
    "import shapely"
   ]
  },
  {
   "cell_type": "code",
   "execution_count": null,
   "id": "b2df5e6d",
   "metadata": {},
   "outputs": [],
   "source": [
    "sample = pd.read_csv('data/points_for_gsv.csv')\n",
    "sample[\"geometry\"] = sample[\"geometry\"].apply(shapely.wkt.loads)"
   ]
  },
  {
   "cell_type": "code",
   "execution_count": null,
   "id": "65e52565",
   "metadata": {},
   "outputs": [],
   "source": [
    "sample.head()"
   ]
  },
  {
   "cell_type": "code",
   "execution_count": null,
   "id": "288c2c6f",
   "metadata": {},
   "outputs": [],
   "source": [
    "# Extract longitude and latitude from geometry column\n",
    "sample_with_coords = sample.copy()\n",
    "sample_with_coords['longitude'] = sample_with_coords['geometry'].apply(lambda geom: round(geom.x, 6))\n",
    "sample_with_coords['latitude'] = sample_with_coords['geometry'].apply(lambda geom: round(geom.y, 6))\n",
    "\n",
    "# Export to CSV\n",
    "sample_with_coords.to_csv('data/sample_with_coords.csv', index=False)"
   ]
  },
  {
   "cell_type": "code",
   "execution_count": null,
   "id": "161352dd",
   "metadata": {},
   "outputs": [],
   "source": [
    "downloader = download.AMSDownloader()\n",
    "images_path = \"data/ams_images\"\n",
    "\n",
    "downloader.download_svi(images_path, input_csv_file=\"data/sample_with_coords.csv\", start_date=\"2023-01-01\", end_date=\"2023-12-31\", buffer=100, distance=100)"
   ]
  },
  {
   "cell_type": "code",
   "execution_count": null,
   "id": "514f0bb3",
   "metadata": {},
   "outputs": [],
   "source": [
    "import os\n",
    "import cv2\n",
    "import numpy as np\n",
    "from cubemap import equirec_to_cubemap\n",
    "from concurrent.futures import ThreadPoolExecutor, as_completed\n",
    "import threading\n",
    "\n",
    "out_size = 640  # Size of each cubemap face\n",
    "\n",
    "directory = \"data/ams_images\"\n",
    "files = [f for f in os.listdir(directory) if f.endswith('.jpg')]\n",
    "\n",
    "# load ams_pids.csv\n",
    "pids_df = pd.read_csv('data/ams_images/ams_pids.csv')\n",
    "pids_df.set_index('image_id', inplace=True)\n",
    "\n",
    "def process_image(file):\n",
    "    \"\"\"Process a single image file\"\"\"\n",
    "    try:\n",
    "        equirec_image = cv2.imread(os.path.join(directory, file))\n",
    "        if equirec_image is None:\n",
    "            print(f\"Failed to load image: {file}\")\n",
    "            return False\n",
    "            \n",
    "        car_heading = pids_df.loc[int(file.replace(\".jpg\",\"\"))].heading\n",
    "        faces = equirec_to_cubemap(equirec_image, out_size, car_heading)\n",
    "        new_file_name = file.replace(\".jpg\", \"\")\n",
    "        \n",
    "        # Ensure output directory exists\n",
    "        os.makedirs(\"data/ams_images_cubemap\", exist_ok=True)\n",
    "        \n",
    "        cv2.imwrite(f\"data/ams_images_cubemap/{new_file_name}_front.jpg\", faces[3])\n",
    "        cv2.imwrite(f\"data/ams_images_cubemap/{new_file_name}_back.jpg\", faces[1])\n",
    "        \n",
    "        # print(f\"Processed: {file}\")\n",
    "        return True\n",
    "    except Exception as e:\n",
    "        print(f\"Error processing {file}: {str(e)}\")\n",
    "        return False\n",
    "\n",
    "# Process images in parallel\n",
    "max_workers = min(32, (os.cpu_count() or 1) + 4)  # Reasonable thread count\n",
    "successful = 0\n",
    "failed = 0\n",
    "\n",
    "with ThreadPoolExecutor(max_workers=max_workers) as executor:\n",
    "    # Submit all tasks\n",
    "    future_to_file = {executor.submit(process_image, file): file for file in files}\n",
    "    \n",
    "    # Process completed tasks\n",
    "    for future in as_completed(future_to_file):\n",
    "        file = future_to_file[future]\n",
    "        try:\n",
    "            result = future.result()\n",
    "            if result:\n",
    "                successful += 1\n",
    "            else:\n",
    "                failed += 1\n",
    "        except Exception as exc:\n",
    "            print(f\"File {file} generated an exception: {exc}\")\n",
    "            failed += 1\n",
    "\n",
    "print(f\"Processing complete. Successful: {successful}, Failed: {failed}\")"
   ]
  }
 ],
 "metadata": {
  "kernelspec": {
   "display_name": "ams-img-download",
   "language": "python",
   "name": "python3"
  },
  "language_info": {
   "codemirror_mode": {
    "name": "ipython",
    "version": 3
   },
   "file_extension": ".py",
   "mimetype": "text/x-python",
   "name": "python",
   "nbconvert_exporter": "python",
   "pygments_lexer": "ipython3",
   "version": "3.11.13"
  }
 },
 "nbformat": 4,
 "nbformat_minor": 5
}
